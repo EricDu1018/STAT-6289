{
  "nbformat": 4,
  "nbformat_minor": 0,
  "metadata": {
    "colab": {
      "name": "6289_HW5.ipynb",
      "provenance": []
    },
    "kernelspec": {
      "name": "python3",
      "display_name": "Python 3"
    }
  },
  "cells": [
    {
      "cell_type": "markdown",
      "metadata": {
        "id": "2VtpITEPWqYO"
      },
      "source": [
        "# **Exploring Analogies and Other Word Pair Relationships**"
      ]
    },
    {
      "cell_type": "markdown",
      "metadata": {
        "id": "pYI79YFMW2I2"
      },
      "source": [
        "This assignment is accomplished by using Magnitude to load a vector model trained using word2vec, and use it to manipulate and analyze the vectors."
      ]
    },
    {
      "cell_type": "markdown",
      "metadata": {
        "id": "eX7eRhQrTUd9"
      },
      "source": [
        "# **Google Colab Installation**"
      ]
    },
    {
      "cell_type": "code",
      "metadata": {
        "colab": {
          "base_uri": "https://localhost:8080/"
        },
        "id": "oKoGLeN8TYyd",
        "outputId": "f3f14728-d58d-44eb-f11e-1414f0d0048b"
      },
      "source": [
        "# Install Magnitude on Google Colab\n",
        "! echo \"Installing Magnitude.... (please wait, can take a while)\"\n",
        "! (curl https://raw.githubusercontent.com/plasticityai/magnitude/master/install-colab.sh | /bin/bash 1>/dev/null 2>/dev/null)\n",
        "! echo \"Done installing Magnitude.\"\n",
        "! wget \"http://magnitude.plasticity.ai/word2vec/GoogleNews-vectors-negative300.magnitude\""
      ],
      "execution_count": 45,
      "outputs": [
        {
          "output_type": "stream",
          "text": [
            "Installing Magnitude.... (please wait, can take a while)\n",
            "  % Total    % Received % Xferd  Average Speed   Time    Time     Time  Current\n",
            "                                 Dload  Upload   Total   Spent    Left  Speed\n",
            "100   137  100   137    0     0    311      0 --:--:-- --:--:-- --:--:--   311\n",
            "Done installing Magnitude.\n",
            "--2020-11-18 17:00:51--  http://magnitude.plasticity.ai/word2vec/GoogleNews-vectors-negative300.magnitude\n",
            "Resolving magnitude.plasticity.ai (magnitude.plasticity.ai)... 52.216.128.210\n",
            "Connecting to magnitude.plasticity.ai (magnitude.plasticity.ai)|52.216.128.210|:80... connected.\n",
            "HTTP request sent, awaiting response... 200 OK\n",
            "Length: 4211335168 (3.9G) [application/x-www-form-urlencoded]\n",
            "Saving to: ‘GoogleNews-vectors-negative300.magnitude.1’\n",
            "\n",
            "GoogleNews-vectors- 100%[===================>]   3.92G  16.6MB/s    in 4m 25s  \n",
            "\n",
            "2020-11-18 17:05:17 (15.2 MB/s) - ‘GoogleNews-vectors-negative300.magnitude.1’ saved [4211335168/4211335168]\n",
            "\n"
          ],
          "name": "stdout"
        }
      ]
    },
    {
      "cell_type": "code",
      "metadata": {
        "id": "ymGdb2iTXlqb"
      },
      "source": [
        "from pymagnitude import *\n",
        "file_path = \"GoogleNews-vectors-negative300.magnitude\"\n",
        "vectors = Magnitude(file_path)"
      ],
      "execution_count": 46,
      "outputs": []
    },
    {
      "cell_type": "markdown",
      "metadata": {
        "id": "bTjkAWMGilYZ"
      },
      "source": [
        "# **Querying**"
      ]
    },
    {
      "cell_type": "markdown",
      "metadata": {
        "id": "UcdquVYhLIxN"
      },
      "source": [
        "***Query for the vector of a key***"
      ]
    },
    {
      "cell_type": "code",
      "metadata": {
        "id": "QsW2bCvfJwmE",
        "colab": {
          "base_uri": "https://localhost:8080/"
        },
        "outputId": "7815ff9b-eae0-4611-8288-aa67285cdd42"
      },
      "source": [
        "vectors.query(\"king\")"
      ],
      "execution_count": 47,
      "outputs": [
        {
          "output_type": "execute_result",
          "data": {
            "text/plain": [
              "array([ 4.340640e-02,  1.026280e-02,  2.965300e-03,  4.811720e-02,\n",
              "       -8.832700e-03, -1.244990e-02,  3.852740e-02, -6.830620e-02,\n",
              "        1.766540e-02,  1.251719e-01, -8.344790e-02, -1.043099e-01,\n",
              "       -6.124000e-02, -8.580300e-03, -5.787520e-02, -5.854810e-02,\n",
              "        1.194520e-02,  1.798100e-03,  1.598300e-02,  4.441580e-02,\n",
              "        4.710770e-02,  3.886390e-02,  2.052550e-02,  4.710770e-02,\n",
              "        3.482610e-02, -6.090350e-02, -8.681280e-02,  2.060960e-02,\n",
              "        1.177693e-01, -1.072540e-02,  3.600370e-02,  2.128260e-02,\n",
              "        4.290170e-02,  1.379583e-01, -1.110396e-01,  2.893760e-02,\n",
              "        1.345930e-02,  2.018900e-03,  2.422680e-02,  5.955760e-02,\n",
              "        4.778070e-02, -7.974660e-02,  9.758020e-02,  4.912660e-02,\n",
              "        1.177693e-01, -8.243800e-03, -3.785440e-02,  1.144040e-02,\n",
              "       -1.884310e-02,  5.278600e-03, -5.585630e-02,  5.451030e-02,\n",
              "       -8.950460e-02,  6.940000e-03, -5.619280e-02,  4.679000e-04,\n",
              "       -4.979960e-02, -1.960020e-02,  1.480530e-02, -8.496200e-03,\n",
              "        6.393190e-02,  1.541095e-01,  3.301700e-03,  4.542530e-02,\n",
              "        3.398480e-02, -6.393190e-02, -3.448960e-02, -4.609830e-02,\n",
              "       -4.306990e-02,  9.758020e-02,  4.239690e-02,  1.833840e-02,\n",
              "       -6.124000e-02,  2.961060e-02, -7.528800e-03,  7.066200e-03,\n",
              "       -4.811720e-02,  8.664500e-03,  4.778070e-02, -3.634020e-02,\n",
              "        4.778070e-02,  3.062000e-02, -2.590920e-02, -7.360600e-03,\n",
              "        5.955760e-02,  1.598300e-02, -9.152350e-02,  3.070400e-03,\n",
              "        5.148200e-02,  1.303870e-02,  8.210200e-02, -4.290170e-02,\n",
              "       -7.503580e-02, -6.258590e-02,  1.026280e-02,  1.968430e-02,\n",
              "       -9.968300e-03,  4.290200e-03,  3.331190e-02, -7.974660e-02,\n",
              "        2.002080e-02,  2.304910e-02,  2.439510e-02, -1.063288e-01,\n",
              "       -7.402640e-02,  5.013610e-02, -1.473798e-01, -3.238700e-03,\n",
              "        5.316440e-02, -2.641400e-02,  9.959910e-02,  9.556130e-02,\n",
              "       -1.676000e-04, -4.710770e-02,  1.117126e-01, -8.479390e-02,\n",
              "       -1.046300e-03, -7.301690e-02,  4.306990e-02,  9.286950e-02,\n",
              "        7.032510e-02,  2.843290e-02, -6.931560e-02, -5.518330e-02,\n",
              "       -1.303870e-02, -4.138750e-02,  3.970510e-02, -1.413230e-02,\n",
              "       -1.362760e-02, -3.095650e-02,  2.187100e-03,  6.998860e-02,\n",
              "        6.426840e-02,  9.421540e-02,  2.170320e-02,  4.879010e-02,\n",
              "       -3.381660e-02,  4.778070e-02,  6.292240e-02,  5.989410e-02,\n",
              "        5.989410e-02, -8.176550e-02,  6.157650e-02,  2.187140e-02,\n",
              "        8.142900e-02, -7.200750e-02,  3.011530e-02, -5.720220e-02,\n",
              "       -2.725520e-02,  8.378440e-02, -3.062000e-02,  4.374290e-02,\n",
              "       -7.469940e-02, -5.989410e-02, -1.238260e-01, -2.843290e-02,\n",
              "       -2.237620e-02,  1.749710e-02,  4.677120e-02, -2.574100e-02,\n",
              "       -5.652920e-02,  3.974700e-03,  1.534365e-01, -7.436290e-02,\n",
              "       -3.835910e-02, -6.628730e-02,  5.888460e-02, -4.306990e-02,\n",
              "        9.148000e-04,  6.628730e-02, -6.023060e-02,  4.811720e-02,\n",
              "        1.009451e-01,  3.903210e-02,  2.052550e-02, -2.203970e-02,\n",
              "        3.432130e-02, -9.379500e-03,  6.771700e-03,  1.472120e-02,\n",
              "       -8.479390e-02,  2.203970e-02, -7.772770e-02, -5.821170e-02,\n",
              "        9.989000e-04,  2.826460e-02,  1.177693e-01,  1.488940e-02,\n",
              "        4.576180e-02,  4.912660e-02,  2.624570e-02,  2.060960e-02,\n",
              "       -4.105100e-02,  9.464000e-04, -2.170320e-02, -9.379500e-03,\n",
              "       -1.661400e-03, -2.826460e-02, -8.580300e-03, -1.379583e-01,\n",
              "       -3.684500e-02,  1.463700e-02,  2.675040e-02, -4.020980e-02,\n",
              "        2.540450e-02, -3.179770e-02,  3.718140e-02,  5.451030e-02,\n",
              "        1.463700e-02,  4.374290e-02,  1.244990e-02,  9.219650e-02,\n",
              "       -3.482610e-02, -1.043099e-01, -1.985250e-02,  1.741300e-02,\n",
              "        1.814000e-04, -7.133450e-02, -4.778070e-02, -3.091400e-03,\n",
              "       -9.589800e-03, -4.879010e-02,  7.133450e-02, -5.451030e-02,\n",
              "        4.407940e-02,  5.148200e-02, -7.739100e-03, -2.910580e-02,\n",
              "        4.222870e-02,  7.436290e-02, -7.368990e-02, -1.076747e-01,\n",
              "       -1.285367e-01,  1.409000e-03,  3.701320e-02,  3.684500e-02,\n",
              "        2.523630e-02,  3.091400e-03, -1.337520e-02, -4.475230e-02,\n",
              "        5.148200e-02, -7.402640e-02, -6.335000e-04,  3.415310e-02,\n",
              "        5.417390e-02, -3.936860e-02, -7.066160e-02,  3.415310e-02,\n",
              "        1.271908e-01, -6.796970e-02,  1.219750e-02,  3.768620e-02,\n",
              "        4.542530e-02,  5.753870e-02,  8.109250e-02,  3.617200e-02,\n",
              "       -1.709337e-01, -5.652920e-02, -5.383740e-02, -1.800190e-02,\n",
              "        3.549900e-02,  8.378440e-02, -6.494130e-02,  1.749710e-02,\n",
              "       -3.230240e-02, -2.304910e-02,  7.823200e-03,  2.624570e-02,\n",
              "        9.959910e-02,  1.070018e-01, -1.850660e-02,  7.873720e-02,\n",
              "        8.664500e-03,  2.338560e-02, -4.172400e-02, -7.436290e-02,\n",
              "       -9.421540e-02, -1.059920e-02, -1.164233e-01,  5.282790e-02,\n",
              "        8.041960e-02, -7.167100e-02,  1.285367e-01,  2.826460e-02,\n",
              "        8.681280e-02, -2.624570e-02, -1.606710e-02, -7.697100e-03,\n",
              "        1.030480e-02, -2.044140e-02, -1.608800e-03, -8.412090e-02,\n",
              "       -7.234400e-02, -9.892620e-02, -1.564650e-02, -6.124000e-02,\n",
              "       -9.623430e-02, -2.961060e-02,  3.146120e-02,  8.681280e-02],\n",
              "      dtype=float32)"
            ]
          },
          "metadata": {
            "tags": []
          },
          "execution_count": 47
        }
      ]
    },
    {
      "cell_type": "markdown",
      "metadata": {
        "id": "-QwOR6PMLZ-X"
      },
      "source": [
        "***Query for the vector of multiple keys***"
      ]
    },
    {
      "cell_type": "code",
      "metadata": {
        "id": "J0f4plh9LmMv",
        "colab": {
          "base_uri": "https://localhost:8080/"
        },
        "outputId": "9b173b36-ff13-41c2-bdaf-ba1fd2bcb675"
      },
      "source": [
        "vectors.query([\"Man\", \"is\", \"to\", \"king\"])"
      ],
      "execution_count": 48,
      "outputs": [
        {
          "output_type": "execute_result",
          "data": {
            "text/plain": [
              "array([[ 0.0326088 ,  0.028302  , -0.0150739 , ..., -0.0177656 ,\n",
              "        -0.0433759 , -0.0032493 ],\n",
              "       [ 0.003746  , -0.0389198 ,  0.0913317 , ...,  0.0059677 ,\n",
              "         0.0871803 ,  0.0568229 ],\n",
              "       [ 0.01091041, -0.02409765,  0.05447518, ...,  0.03390222,\n",
              "        -0.03805145, -0.08748387],\n",
              "       [ 0.0434064 ,  0.0102628 ,  0.0029653 , ..., -0.0296106 ,\n",
              "         0.0314612 ,  0.0868128 ]], dtype=float32)"
            ]
          },
          "metadata": {
            "tags": []
          },
          "execution_count": 48
        }
      ]
    },
    {
      "cell_type": "markdown",
      "metadata": {
        "id": "jtH-qwTML2cz"
      },
      "source": [
        "***Query the distance of two or multiple keys***"
      ]
    },
    {
      "cell_type": "code",
      "metadata": {
        "colab": {
          "base_uri": "https://localhost:8080/"
        },
        "id": "9_CpqnJpL_oc",
        "outputId": "45cc128d-3cfe-4773-e97f-7d890be3fa3b"
      },
      "source": [
        "vectors.distance(\"banana\", [\"apple\", \"tiger\"])"
      ],
      "execution_count": 49,
      "outputs": [
        {
          "output_type": "execute_result",
          "data": {
            "text/plain": [
              "[0.96763563, 1.265893]"
            ]
          },
          "metadata": {
            "tags": []
          },
          "execution_count": 49
        }
      ]
    },
    {
      "cell_type": "markdown",
      "metadata": {
        "id": "S1EMsMCoM9bK"
      },
      "source": [
        "***Query the similarity of two or multiple keys***"
      ]
    },
    {
      "cell_type": "code",
      "metadata": {
        "colab": {
          "base_uri": "https://localhost:8080/"
        },
        "id": "n_sAq2oLMX_d",
        "outputId": "f6574da7-595d-4cef-9164-3950dc6db60f"
      },
      "source": [
        "vectors.similarity(\"banana\", [\"apple\", \"tiger\"])"
      ],
      "execution_count": 50,
      "outputs": [
        {
          "output_type": "execute_result",
          "data": {
            "text/plain": [
              "[0.5318407, 0.19875745]"
            ]
          },
          "metadata": {
            "tags": []
          },
          "execution_count": 50
        }
      ]
    },
    {
      "cell_type": "markdown",
      "metadata": {
        "id": "fsM55t0oNYmI"
      },
      "source": [
        "The result is realistic as banana and apple are fruits and tiger is a kind of animal."
      ]
    },
    {
      "cell_type": "markdown",
      "metadata": {
        "id": "dBkjZQIKNsib"
      },
      "source": [
        "***Query for the most similar (nearest neighbors) keys***"
      ]
    },
    {
      "cell_type": "code",
      "metadata": {
        "colab": {
          "base_uri": "https://localhost:8080/"
        },
        "id": "3efPBmtxN0Cn",
        "outputId": "83e8675a-f86f-4871-9687-e9928d6c707b"
      },
      "source": [
        "vectors.most_similar(\"chocolate\", topn = 10) # Top 10"
      ],
      "execution_count": 51,
      "outputs": [
        {
          "output_type": "execute_result",
          "data": {
            "text/plain": [
              "[('dark_chocolate', 0.76897097),\n",
              " ('chocolates', 0.7569216),\n",
              " ('Chocolate', 0.70808077),\n",
              " ('caramel', 0.67320126),\n",
              " ('ice_cream', 0.66110814),\n",
              " ('caramels', 0.66045356),\n",
              " ('chip_cookies', 0.65967846),\n",
              " ('chocolate_truffle', 0.64146787),\n",
              " ('choccie', 0.6404877),\n",
              " ('Callebaut_chocolate', 0.6401943)]"
            ]
          },
          "metadata": {
            "tags": []
          },
          "execution_count": 51
        }
      ]
    },
    {
      "cell_type": "markdown",
      "metadata": {
        "id": "fk0lw7XqObfG"
      },
      "source": [
        "***Query for the most similar keys giving positive and negative examples (which, incidentally, solves analogies)***"
      ]
    },
    {
      "cell_type": "markdown",
      "metadata": {
        "id": "GHW0-lQrOoK4"
      },
      "source": [
        "For example, man is to brother as woman is to [blank]"
      ]
    },
    {
      "cell_type": "code",
      "metadata": {
        "colab": {
          "base_uri": "https://localhost:8080/"
        },
        "id": "rxZ0I2FfOjzQ",
        "outputId": "5b3ad23b-1a59-444c-d7c8-95610f243ee3"
      },
      "source": [
        "vectors.most_similar(positive = [\"woman\", \"brother\"], negative = [\"man\"])"
      ],
      "execution_count": 52,
      "outputs": [
        {
          "output_type": "execute_result",
          "data": {
            "text/plain": [
              "[('sister', 0.81032145),\n",
              " ('daughter', 0.7646755),\n",
              " ('mother', 0.7524209),\n",
              " ('son', 0.7238258),\n",
              " ('niece', 0.72159415),\n",
              " ('husband', 0.71414834),\n",
              " ('father', 0.70660734),\n",
              " ('aunt', 0.6844728),\n",
              " ('cousin', 0.6844366),\n",
              " ('eldest_daughter', 0.6790663)]"
            ]
          },
          "metadata": {
            "tags": []
          },
          "execution_count": 52
        }
      ]
    },
    {
      "cell_type": "markdown",
      "metadata": {
        "id": "9HLCx_4iSEyF"
      },
      "source": [
        "Given the results, the \"blank\" in this analogy is most likely to be \"sister\"."
      ]
    },
    {
      "cell_type": "markdown",
      "metadata": {
        "id": "ddtLla3MZDYV"
      },
      "source": [
        "# **Questions**"
      ]
    },
    {
      "cell_type": "markdown",
      "metadata": {
        "id": "awLa0MaMZMPK"
      },
      "source": [
        "***What is the dimensionality of these word embeddings? Provide an integer answer.***"
      ]
    },
    {
      "cell_type": "code",
      "metadata": {
        "colab": {
          "base_uri": "https://localhost:8080/"
        },
        "id": "gTPs-N10ZJrc",
        "outputId": "357f7609-237f-48e2-e495-e2382a6725d4"
      },
      "source": [
        "len(vectors)"
      ],
      "execution_count": 53,
      "outputs": [
        {
          "output_type": "execute_result",
          "data": {
            "text/plain": [
              "3000000"
            ]
          },
          "metadata": {
            "tags": []
          },
          "execution_count": 53
        }
      ]
    },
    {
      "cell_type": "code",
      "metadata": {
        "colab": {
          "base_uri": "https://localhost:8080/"
        },
        "id": "Ww3ooYlqZfY1",
        "outputId": "09ad5071-7c41-4b08-d4c3-99d407f823ee"
      },
      "source": [
        "vectors.dim"
      ],
      "execution_count": 54,
      "outputs": [
        {
          "output_type": "execute_result",
          "data": {
            "text/plain": [
              "300"
            ]
          },
          "metadata": {
            "tags": []
          },
          "execution_count": 54
        }
      ]
    },
    {
      "cell_type": "markdown",
      "metadata": {
        "id": "rtKpcKP0Z1Xc"
      },
      "source": [
        "***What are the top-5 most similar words to picnic (not including picnic itself)?***"
      ]
    },
    {
      "cell_type": "code",
      "metadata": {
        "colab": {
          "base_uri": "https://localhost:8080/"
        },
        "id": "hHqhuGdyZ3GH",
        "outputId": "b065037a-5ca3-4595-ee17-2dab034bbd47"
      },
      "source": [
        "vectors.most_similar(\"picnic\", topn = 10) "
      ],
      "execution_count": 55,
      "outputs": [
        {
          "output_type": "execute_result",
          "data": {
            "text/plain": [
              "[('picnics', 0.7400875),\n",
              " ('picnic_lunch', 0.721374),\n",
              " ('Picnic', 0.700534),\n",
              " ('potluck_picnic', 0.6683274),\n",
              " ('picnic_supper', 0.65189123),\n",
              " ('picnicking', 0.63550216),\n",
              " ('cookout', 0.63243484),\n",
              " ('Hiking_biking_camping', 0.6256069),\n",
              " ('barbeque', 0.62256277),\n",
              " ('barbecue', 0.6195759)]"
            ]
          },
          "metadata": {
            "tags": []
          },
          "execution_count": 55
        }
      ]
    },
    {
      "cell_type": "markdown",
      "metadata": {
        "id": "3GOocDZwaa_S"
      },
      "source": [
        "The top-5 most similar words to picnic are 'picnics', 'picnic_lunch', 'Picnic', 'potluck_picnic', and 'picnic_supper'."
      ]
    },
    {
      "cell_type": "markdown",
      "metadata": {
        "id": "MixVZOLicWwB"
      },
      "source": [
        "***According to the word embeddings, which of these words is not like the others? ['tissue', 'papyrus',\n",
        "'manila', 'newsprint', 'parchment', 'gazette']***"
      ]
    },
    {
      "cell_type": "code",
      "metadata": {
        "colab": {
          "base_uri": "https://localhost:8080/",
          "height": 35
        },
        "id": "SMct_mlFaC1l",
        "outputId": "69c6264a-8f95-4c5f-8c4f-62a35450e36f"
      },
      "source": [
        "vectors.doesnt_match(['tissue', 'papyrus','manila', 'newsprint', 'parchment', 'gazette'])"
      ],
      "execution_count": 56,
      "outputs": [
        {
          "output_type": "execute_result",
          "data": {
            "application/vnd.google.colaboratory.intrinsic+json": {
              "type": "string"
            },
            "text/plain": [
              "'tissue'"
            ]
          },
          "metadata": {
            "tags": []
          },
          "execution_count": 56
        }
      ]
    },
    {
      "cell_type": "markdown",
      "metadata": {
        "id": "kNxTj_txcrxf"
      },
      "source": [
        "***Solve the following analogy: leg is to jump as X is to throw.***"
      ]
    },
    {
      "cell_type": "code",
      "metadata": {
        "colab": {
          "base_uri": "https://localhost:8080/"
        },
        "id": "Yb86M4gocf0k",
        "outputId": "f03a16b0-e1ad-429b-e9b2-51409aa9d085"
      },
      "source": [
        "vectors.most_similar(positive = [\"leg\", \"throw\"], negative = [\"jump\"])"
      ],
      "execution_count": 57,
      "outputs": [
        {
          "output_type": "execute_result",
          "data": {
            "text/plain": [
              "[('forearm', 0.48294652),\n",
              " ('shin', 0.47376165),\n",
              " ('elbow', 0.4679689),\n",
              " ('metacarpal_bone', 0.46781474),\n",
              " ('metacarpal_bones', 0.46605822),\n",
              " ('ankle', 0.46434426),\n",
              " ('shoulder', 0.46183354),\n",
              " ('thigh', 0.45393682),\n",
              " ('knee', 0.4455707),\n",
              " ('ulna_bone', 0.4423491)]"
            ]
          },
          "metadata": {
            "tags": []
          },
          "execution_count": 57
        }
      ]
    },
    {
      "cell_type": "markdown",
      "metadata": {
        "id": "KH5ArwrxfrO_"
      },
      "source": [
        "Given the results, X is mostly likely to be 'forearm'"
      ]
    }
  ]
}